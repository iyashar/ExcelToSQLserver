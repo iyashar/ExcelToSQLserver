{
 "cells": [
  {
   "cell_type": "code",
   "execution_count": null,
   "id": "7183181d",
   "metadata": {},
   "outputs": [],
   "source": [
    "#import modules\n",
    "import pandas as pd\n",
    "import glob"
   ]
  },
  {
   "cell_type": "code",
   "execution_count": null,
   "id": "4d3f2271",
   "metadata": {},
   "outputs": [],
   "source": [
    "# path of the folder\n",
    "path = r'F:\\sReport'\n",
    "\n",
    "# reading all the excel files\n",
    "filenames = glob.glob(path + \"\\*.xlsx\")\n",
    "print('File names:', filenames)\n",
    "  \n",
    "# initializing empty data frame\n",
    "finalexcelsheet = pd.DataFrame()"
   ]
  },
  {
   "cell_type": "code",
   "execution_count": null,
   "id": "d0d65c03",
   "metadata": {},
   "outputs": [],
   "source": [
    "  \n",
    "# to iterate excel file one by one \n",
    "# inside the folder\n",
    "for file in filenames:\n",
    "  \n",
    "    # combining multiple excel worksheets\n",
    "    # into single data frames\n",
    "    df = pd.concat(pd.read_excel(\n",
    "      file, sheet_name=None), ignore_index=True, sort=False)\n",
    "  \n",
    "    # appending excel files one by one\n",
    "    finalexcelsheet = finalexcelsheet.append(\n",
    "      df, ignore_index=True)"
   ]
  },
  {
   "cell_type": "code",
   "execution_count": null,
   "id": "aa7f900d",
   "metadata": {},
   "outputs": [],
   "source": [
    "# to print the combined data\n",
    "print('Final Sheet:')\n",
    "display(finalexcelsheet)"
   ]
  },
  {
   "cell_type": "code",
   "execution_count": null,
   "id": "c5307c12",
   "metadata": {},
   "outputs": [],
   "source": [
    "finalexcelsheet.info()"
   ]
  },
  {
   "cell_type": "code",
   "execution_count": null,
   "id": "40335697",
   "metadata": {},
   "outputs": [],
   "source": [
    "#Data PreProcessing\n",
    "#Format Data to import in SQL Successfully\n",
    "#all my SQL columns are nVarchar\n",
    "finalexcelsheet['X'] = [format(i, '.3f') for i in finalexcelsheet['X']]\n",
    "finalexcelsheet['Y'] = [format(i, '.3f') for i in finalexcelsheet['Y']]\n",
    "finalexcelsheet['Z'] = [format(i, '.3f') for i in finalexcelsheet['Z']]\n"
   ]
  },
  {
   "cell_type": "code",
   "execution_count": null,
   "id": "efe5642b",
   "metadata": {},
   "outputs": [],
   "source": [
    "finalexcelsheet['C'].fillna('Null')"
   ]
  },
  {
   "cell_type": "code",
   "execution_count": null,
   "id": "9bdf6000",
   "metadata": {},
   "outputs": [],
   "source": [
    "finalexcelsheet.info()"
   ]
  },
  {
   "cell_type": "code",
   "execution_count": null,
   "id": "427b18ba",
   "metadata": {},
   "outputs": [],
   "source": [
    "import pyodbc"
   ]
  },
  {
   "cell_type": "code",
   "execution_count": null,
   "id": "73b42919",
   "metadata": {},
   "outputs": [],
   "source": [
    "# Connect to SQL Server\n",
    "conn = pyodbc.connect('Driver={SQL Server};'\n",
    "                      'Server=ServerName;'\n",
    "                      'Database=DatabaseName;'\n",
    "                      'Trusted_Connection=yes;'\n",
    "                      'UID=sa;'\n",
    "                      'PWD=sa;')\n",
    "cursor = conn.cursor()\n",
    "cursor.fast_executemany = True"
   ]
  },
  {
   "cell_type": "code",
   "execution_count": null,
   "id": "a7f94254",
   "metadata": {},
   "outputs": [],
   "source": [
    "#To remove data from destination and insert again\n",
    "cursor.execute('''delete TableName''')\n",
    "conn.commit()"
   ]
  },
  {
   "cell_type": "code",
   "execution_count": null,
   "id": "1066cda6",
   "metadata": {},
   "outputs": [],
   "source": [
    "#insertt into SQL server Method 1\n",
    "for row in finalexcelsheet.itertuples():\n",
    "    cursor.execute('''\n",
    "                INSERT INTO Sale ([A],[B],[C])\n",
    "                VALUES (?,?,?)\n",
    "                ''',\n",
    "                row.X, \n",
    "                row.Y,\n",
    "                row.Z\n",
    "                )\n",
    "conn.commit()\n",
    "cursor.close()\n",
    "conn.close()"
   ]
  },
  {
   "cell_type": "code",
   "execution_count": null,
   "id": "2d291d71",
   "metadata": {},
   "outputs": [],
   "source": [
    "#insertt into SQL server Method 2\n",
    "# PREPARED STATEMENT (NO DATA)\n",
    "query = '''INSERT INTO Sale ([A],[B],[C])\n",
    "                VALUES (?,?,?)'''\n",
    "\n",
    "# LIST OF TUPLES FOR PARAMS\n",
    "data = [(row.X, \n",
    "         row.Y,\n",
    "        row.Z,\n",
    ") for row in finalexcelsheet.itertuples()]\n",
    "\n",
    "# EXECUTE STATEMENT AND BIND PARAMS\n",
    "cursor.executemany(query, data)\n",
    "cursor.commit()\n",
    "cursor.close()\n",
    "conn.close()"
   ]
  }
 ],
 "metadata": {
  "kernelspec": {
   "display_name": "base",
   "language": "python",
   "name": "python3"
  },
  "language_info": {
   "codemirror_mode": {
    "name": "ipython",
    "version": 3
   },
   "file_extension": ".py",
   "mimetype": "text/x-python",
   "name": "python",
   "nbconvert_exporter": "python",
   "pygments_lexer": "ipython3",
   "version": "3.9.12 (main, Apr  4 2022, 05:22:27) [MSC v.1916 64 bit (AMD64)]"
  },
  "vscode": {
   "interpreter": {
    "hash": "ad2bdc8ecc057115af97d19610ffacc2b4e99fae6737bb82f5d7fb13d2f2c186"
   }
  }
 },
 "nbformat": 4,
 "nbformat_minor": 5
}
